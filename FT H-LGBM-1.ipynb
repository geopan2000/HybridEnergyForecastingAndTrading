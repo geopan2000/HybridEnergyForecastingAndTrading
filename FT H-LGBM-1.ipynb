{
 "cells": [
  {
   "cell_type": "markdown",
   "metadata": {},
   "source": [
    "# Forecast Hybrid Production Notebook\n",
    "Author: George Panagiotou"
   ]
  },
  {
   "cell_type": "code",
   "execution_count": 1,
   "metadata": {},
   "outputs": [],
   "source": [
    "import pandas as pd\n",
    "import numpy as np\n",
    "from comp_utils import *\n",
    "import lightgbm as lgb\n",
    "import os\n",
    "\n",
    "from skopt import BayesSearchCV\n",
    "from skopt.space import Real, Categorical, Integer\n",
    "from sklearn.metrics import make_scorer\n",
    "from sklearn.model_selection import KFold"
   ]
  },
  {
   "cell_type": "markdown",
   "metadata": {},
   "source": [
    "## Test and train data:"
   ]
  },
  {
   "cell_type": "code",
   "execution_count": 2,
   "metadata": {},
   "outputs": [
    {
     "name": "stdout",
     "output_type": "stream",
     "text": [
      "Train features before removing columns: (56284, 165)\n",
      "Train features after removing columns: (56284, 161)\n"
     ]
    }
   ],
   "source": [
    "Solar = pd.read_hdf('data/reference_time_06/SolarTrainTable.h5', 'df')\n",
    "Wind = pd.read_hdf('data/reference_time_06/WindTrainTable.h5', 'df')\n",
    "merged_df = pd.merge(Solar, Wind, on='valid_time', how='outer')\n",
    "\n",
    "\n",
    "train_table = pd.merge(Solar, Wind, on='valid_time', how='outer')\n",
    "train_table = train_table.dropna()\n",
    "\n",
    "train_table['total_generation_MWh'] = train_table['Wind_MWh_credit'] + train_table['Solar_MWh_credit']\n",
    "train_target_variable = train_table['total_generation_MWh']\n",
    "\n",
    "print('Train features before removing columns:', train_table.shape)\n",
    "\n",
    "train_times = train_table['valid_time']\n",
    "train_table = train_table.drop(['total_generation_MWh','Solar_MWh_credit','Wind_MWh_credit','Solar_capacity_mwp'], axis=1)\n",
    "\n",
    "print('Train features after removing columns:', train_table.shape)"
   ]
  },
  {
   "cell_type": "code",
   "execution_count": 3,
   "metadata": {},
   "outputs": [
    {
     "name": "stdout",
     "output_type": "stream",
     "text": [
      "Train features before removing columns: (4318, 165)\n",
      "Train features after removing columns: (4318, 161)\n"
     ]
    }
   ],
   "source": [
    "Solar = pd.read_hdf('data/reference_time_06/SolarTestTable.h5', 'df')\n",
    "Wind = pd.read_hdf('data/reference_time_06/WindTestTable.h5', 'df')\n",
    "merged_df = pd.merge(Solar, Wind, on='valid_time', how='outer')\n",
    "\n",
    "\n",
    "test_table = pd.merge(Solar, Wind, on='valid_time', how='outer')\n",
    "test_table['total_generation_MWh'] = test_table['Wind_MWh_credit'] + test_table['Solar_MWh_credit']\n",
    "test_target_variable = test_table['total_generation_MWh']\n",
    "\n",
    "print('Train features before removing columns:', test_table.shape)\n",
    "\n",
    "test_times = test_table['valid_time']\n",
    "test_table = test_table.drop(['total_generation_MWh','Solar_MWh_credit','Wind_MWh_credit','Solar_capacity_mwp'], axis=1)\n",
    "\n",
    "print('Train features after removing columns:', test_table.shape)"
   ]
  },
  {
   "cell_type": "markdown",
   "metadata": {},
   "source": [
    "## Transforming time into cyclic features:"
   ]
  },
  {
   "cell_type": "code",
   "execution_count": 4,
   "metadata": {
    "editable": true,
    "slideshow": {
     "slide_type": ""
    },
    "tags": []
   },
   "outputs": [
    {
     "name": "stdout",
     "output_type": "stream",
     "text": [
      "Train features after adding cyclic times and removing valid_time: (56284, 169)\n",
      "Test features after adding cyclic times and removing valid_time: (4318, 169)\n"
     ]
    }
   ],
   "source": [
    "train_table = add_cyclic_features(train_table)\n",
    "train_table = train_table.drop(columns=[\"valid_time\"])\n",
    "print('Train features after adding cyclic times and removing valid_time:', train_table.shape)\n",
    "\n",
    "test_table = add_cyclic_features(test_table)\n",
    "test_table = test_table.drop(columns=[\"valid_time\"])\n",
    "print('Test features after adding cyclic times and removing valid_time:', test_table.shape)"
   ]
  },
  {
   "cell_type": "markdown",
   "metadata": {},
   "source": [
    "## LightGBM (Tuning)\n",
    "!!! DO NOT RUN !!!"
   ]
  },
  {
   "cell_type": "code",
   "execution_count": 11,
   "metadata": {},
   "outputs": [
    {
     "name": "stdout",
     "output_type": "stream",
     "text": [
      "Running Bayesian optimization search for the 10.0% quantile.\n",
      "Fitting 5 folds for each of 1 candidates, totalling 5 fits\n"
     ]
    },
    {
     "name": "stdout",
     "output_type": "stream",
     "text": [
      "Fitting 5 folds for each of 1 candidates, totalling 5 fits\n",
      "Fitting 5 folds for each of 1 candidates, totalling 5 fits\n",
      "Fitting 5 folds for each of 1 candidates, totalling 5 fits\n",
      "Fitting 5 folds for each of 1 candidates, totalling 5 fits\n",
      "Fitting 5 folds for each of 1 candidates, totalling 5 fits\n",
      "Fitting 5 folds for each of 1 candidates, totalling 5 fits\n",
      "Fitting 5 folds for each of 1 candidates, totalling 5 fits\n",
      "Fitting 5 folds for each of 1 candidates, totalling 5 fits\n",
      "Fitting 5 folds for each of 1 candidates, totalling 5 fits\n",
      "Fitting 5 folds for each of 1 candidates, totalling 5 fits\n",
      "Fitting 5 folds for each of 1 candidates, totalling 5 fits\n",
      "Fitting 5 folds for each of 1 candidates, totalling 5 fits\n",
      "Fitting 5 folds for each of 1 candidates, totalling 5 fits\n",
      "Fitting 5 folds for each of 1 candidates, totalling 5 fits\n",
      "Fitting 5 folds for each of 1 candidates, totalling 5 fits\n",
      "Best parameters for 10.0% quantile: OrderedDict([('learning_rate', 0.4561486930681556), ('max_depth', 1), ('n_estimators', 212), ('num_leaves', 65)])\n",
      "CV error for 10.0% quantile: -18.7033797653437\n",
      "Training error for 10.0% quantile: -16.3023400689377\n",
      "Running Bayesian optimization search for the 20.0% quantile.\n",
      "Fitting 5 folds for each of 1 candidates, totalling 5 fits\n",
      "Fitting 5 folds for each of 1 candidates, totalling 5 fits\n",
      "Fitting 5 folds for each of 1 candidates, totalling 5 fits\n",
      "Fitting 5 folds for each of 1 candidates, totalling 5 fits\n",
      "Fitting 5 folds for each of 1 candidates, totalling 5 fits\n",
      "Fitting 5 folds for each of 1 candidates, totalling 5 fits\n",
      "Fitting 5 folds for each of 1 candidates, totalling 5 fits\n",
      "Fitting 5 folds for each of 1 candidates, totalling 5 fits\n",
      "Fitting 5 folds for each of 1 candidates, totalling 5 fits\n",
      "Fitting 5 folds for each of 1 candidates, totalling 5 fits\n",
      "Fitting 5 folds for each of 1 candidates, totalling 5 fits\n",
      "Fitting 5 folds for each of 1 candidates, totalling 5 fits\n",
      "Fitting 5 folds for each of 1 candidates, totalling 5 fits\n",
      "Fitting 5 folds for each of 1 candidates, totalling 5 fits\n",
      "Fitting 5 folds for each of 1 candidates, totalling 5 fits\n",
      "Fitting 5 folds for each of 1 candidates, totalling 5 fits\n",
      "Best parameters for 20.0% quantile: OrderedDict([('learning_rate', 0.05846699186838331), ('max_depth', -4), ('n_estimators', 264), ('num_leaves', 20)])\n",
      "CV error for 20.0% quantile: -27.399808143713244\n",
      "Training error for 20.0% quantile: -20.157196116210724\n",
      "Running Bayesian optimization search for the 30.0% quantile.\n",
      "Fitting 5 folds for each of 1 candidates, totalling 5 fits\n",
      "Fitting 5 folds for each of 1 candidates, totalling 5 fits\n",
      "Fitting 5 folds for each of 1 candidates, totalling 5 fits\n",
      "Fitting 5 folds for each of 1 candidates, totalling 5 fits\n",
      "Fitting 5 folds for each of 1 candidates, totalling 5 fits\n",
      "Fitting 5 folds for each of 1 candidates, totalling 5 fits\n",
      "Fitting 5 folds for each of 1 candidates, totalling 5 fits\n",
      "Fitting 5 folds for each of 1 candidates, totalling 5 fits\n",
      "Fitting 5 folds for each of 1 candidates, totalling 5 fits\n",
      "Fitting 5 folds for each of 1 candidates, totalling 5 fits\n",
      "Fitting 5 folds for each of 1 candidates, totalling 5 fits\n",
      "Fitting 5 folds for each of 1 candidates, totalling 5 fits\n",
      "Fitting 5 folds for each of 1 candidates, totalling 5 fits\n",
      "Fitting 5 folds for each of 1 candidates, totalling 5 fits\n",
      "Fitting 5 folds for each of 1 candidates, totalling 5 fits\n",
      "Fitting 5 folds for each of 1 candidates, totalling 5 fits\n",
      "Best parameters for 30.0% quantile: OrderedDict([('learning_rate', 0.12595096221709884), ('max_depth', -1), ('n_estimators', 131), ('num_leaves', 28)])\n",
      "CV error for 30.0% quantile: -32.963990406364516\n",
      "Training error for 30.0% quantile: -23.054027457393026\n",
      "Running Bayesian optimization search for the 40.0% quantile.\n",
      "Fitting 5 folds for each of 1 candidates, totalling 5 fits\n",
      "Fitting 5 folds for each of 1 candidates, totalling 5 fits\n",
      "Fitting 5 folds for each of 1 candidates, totalling 5 fits\n",
      "Fitting 5 folds for each of 1 candidates, totalling 5 fits\n",
      "Fitting 5 folds for each of 1 candidates, totalling 5 fits\n",
      "Fitting 5 folds for each of 1 candidates, totalling 5 fits\n",
      "Fitting 5 folds for each of 1 candidates, totalling 5 fits\n",
      "Fitting 5 folds for each of 1 candidates, totalling 5 fits\n",
      "Fitting 5 folds for each of 1 candidates, totalling 5 fits\n",
      "Fitting 5 folds for each of 1 candidates, totalling 5 fits\n",
      "Fitting 5 folds for each of 1 candidates, totalling 5 fits\n",
      "Fitting 5 folds for each of 1 candidates, totalling 5 fits\n"
     ]
    },
    {
     "name": "stderr",
     "output_type": "stream",
     "text": [
      "/home/thesis/George/.venv/lib/python3.11/site-packages/joblib/externals/loky/process_executor.py:752: UserWarning: A worker stopped while some jobs were given to the executor. This can be caused by a too short worker timeout or by a memory leak.\n",
      "  warnings.warn(\n"
     ]
    },
    {
     "name": "stdout",
     "output_type": "stream",
     "text": [
      "Fitting 5 folds for each of 1 candidates, totalling 5 fits\n",
      "Fitting 5 folds for each of 1 candidates, totalling 5 fits\n",
      "Fitting 5 folds for each of 1 candidates, totalling 5 fits\n",
      "Fitting 5 folds for each of 1 candidates, totalling 5 fits\n",
      "Best parameters for 40.0% quantile: OrderedDict([('learning_rate', 0.024680722683780486), ('max_depth', -8), ('n_estimators', 257), ('num_leaves', 60)])\n",
      "CV error for 40.0% quantile: -35.631006976904736\n",
      "Training error for 40.0% quantile: -25.139712812744186\n",
      "Running Bayesian optimization search for the 50.0% quantile.\n",
      "Fitting 5 folds for each of 1 candidates, totalling 5 fits\n",
      "Fitting 5 folds for each of 1 candidates, totalling 5 fits\n",
      "Fitting 5 folds for each of 1 candidates, totalling 5 fits\n",
      "Fitting 5 folds for each of 1 candidates, totalling 5 fits\n",
      "Fitting 5 folds for each of 1 candidates, totalling 5 fits\n",
      "Fitting 5 folds for each of 1 candidates, totalling 5 fits\n",
      "Fitting 5 folds for each of 1 candidates, totalling 5 fits\n",
      "Fitting 5 folds for each of 1 candidates, totalling 5 fits\n",
      "Fitting 5 folds for each of 1 candidates, totalling 5 fits\n",
      "Fitting 5 folds for each of 1 candidates, totalling 5 fits\n",
      "Fitting 5 folds for each of 1 candidates, totalling 5 fits\n",
      "Fitting 5 folds for each of 1 candidates, totalling 5 fits\n",
      "Fitting 5 folds for each of 1 candidates, totalling 5 fits\n",
      "Fitting 5 folds for each of 1 candidates, totalling 5 fits\n",
      "Fitting 5 folds for each of 1 candidates, totalling 5 fits\n",
      "Fitting 5 folds for each of 1 candidates, totalling 5 fits\n",
      "Best parameters for 50.0% quantile: OrderedDict([('learning_rate', 0.03886958781110293), ('max_depth', -2), ('n_estimators', 176), ('num_leaves', 62)])\n",
      "CV error for 50.0% quantile: -36.51869366816621\n",
      "Training error for 50.0% quantile: -25.032325538209882\n",
      "Running Bayesian optimization search for the 60.0% quantile.\n",
      "Fitting 5 folds for each of 1 candidates, totalling 5 fits\n",
      "Fitting 5 folds for each of 1 candidates, totalling 5 fits\n",
      "Fitting 5 folds for each of 1 candidates, totalling 5 fits\n",
      "Fitting 5 folds for each of 1 candidates, totalling 5 fits\n",
      "Fitting 5 folds for each of 1 candidates, totalling 5 fits\n",
      "Fitting 5 folds for each of 1 candidates, totalling 5 fits\n",
      "Fitting 5 folds for each of 1 candidates, totalling 5 fits\n",
      "Fitting 5 folds for each of 1 candidates, totalling 5 fits\n",
      "Fitting 5 folds for each of 1 candidates, totalling 5 fits\n",
      "Fitting 5 folds for each of 1 candidates, totalling 5 fits\n",
      "Fitting 5 folds for each of 1 candidates, totalling 5 fits\n",
      "Fitting 5 folds for each of 1 candidates, totalling 5 fits\n",
      "Fitting 5 folds for each of 1 candidates, totalling 5 fits\n",
      "Fitting 5 folds for each of 1 candidates, totalling 5 fits\n",
      "Fitting 5 folds for each of 1 candidates, totalling 5 fits\n",
      "Fitting 5 folds for each of 1 candidates, totalling 5 fits\n",
      "Best parameters for 60.0% quantile: OrderedDict([('learning_rate', 0.032051469982452487), ('max_depth', 8), ('n_estimators', 213), ('num_leaves', 48)])\n",
      "CV error for 60.0% quantile: -34.87320030273661\n",
      "Training error for 60.0% quantile: -25.468610418544838\n",
      "Running Bayesian optimization search for the 70.0% quantile.\n",
      "Fitting 5 folds for each of 1 candidates, totalling 5 fits\n",
      "Fitting 5 folds for each of 1 candidates, totalling 5 fits\n",
      "Fitting 5 folds for each of 1 candidates, totalling 5 fits\n",
      "Fitting 5 folds for each of 1 candidates, totalling 5 fits\n",
      "Fitting 5 folds for each of 1 candidates, totalling 5 fits\n",
      "Fitting 5 folds for each of 1 candidates, totalling 5 fits\n",
      "Fitting 5 folds for each of 1 candidates, totalling 5 fits\n",
      "Fitting 5 folds for each of 1 candidates, totalling 5 fits\n",
      "Fitting 5 folds for each of 1 candidates, totalling 5 fits\n",
      "Fitting 5 folds for each of 1 candidates, totalling 5 fits\n",
      "Fitting 5 folds for each of 1 candidates, totalling 5 fits\n",
      "Fitting 5 folds for each of 1 candidates, totalling 5 fits\n",
      "Fitting 5 folds for each of 1 candidates, totalling 5 fits\n",
      "Fitting 5 folds for each of 1 candidates, totalling 5 fits\n",
      "Fitting 5 folds for each of 1 candidates, totalling 5 fits\n",
      "Fitting 5 folds for each of 1 candidates, totalling 5 fits\n",
      "Best parameters for 70.0% quantile: OrderedDict([('learning_rate', 0.04588877095770219), ('max_depth', -1), ('n_estimators', 165), ('num_leaves', 63)])\n",
      "CV error for 70.0% quantile: -30.828163639156635\n",
      "Training error for 70.0% quantile: -20.9296405892373\n",
      "Running Bayesian optimization search for the 80.0% quantile.\n",
      "Fitting 5 folds for each of 1 candidates, totalling 5 fits\n",
      "Fitting 5 folds for each of 1 candidates, totalling 5 fits\n",
      "Fitting 5 folds for each of 1 candidates, totalling 5 fits\n",
      "Fitting 5 folds for each of 1 candidates, totalling 5 fits\n",
      "Fitting 5 folds for each of 1 candidates, totalling 5 fits\n",
      "Fitting 5 folds for each of 1 candidates, totalling 5 fits\n",
      "Fitting 5 folds for each of 1 candidates, totalling 5 fits\n",
      "Fitting 5 folds for each of 1 candidates, totalling 5 fits\n",
      "Fitting 5 folds for each of 1 candidates, totalling 5 fits\n",
      "Fitting 5 folds for each of 1 candidates, totalling 5 fits\n",
      "Fitting 5 folds for each of 1 candidates, totalling 5 fits\n",
      "Fitting 5 folds for each of 1 candidates, totalling 5 fits\n"
     ]
    },
    {
     "name": "stderr",
     "output_type": "stream",
     "text": [
      "/home/thesis/George/.venv/lib/python3.11/site-packages/joblib/externals/loky/process_executor.py:752: UserWarning: A worker stopped while some jobs were given to the executor. This can be caused by a too short worker timeout or by a memory leak.\n",
      "  warnings.warn(\n"
     ]
    },
    {
     "name": "stdout",
     "output_type": "stream",
     "text": [
      "Fitting 5 folds for each of 1 candidates, totalling 5 fits\n",
      "Fitting 5 folds for each of 1 candidates, totalling 5 fits\n",
      "Fitting 5 folds for each of 1 candidates, totalling 5 fits\n",
      "Fitting 5 folds for each of 1 candidates, totalling 5 fits\n",
      "Best parameters for 80.0% quantile: OrderedDict([('learning_rate', 0.0697377817274044), ('max_depth', -2), ('n_estimators', 223), ('num_leaves', 20)])\n",
      "CV error for 80.0% quantile: -25.33720297042887\n",
      "Training error for 80.0% quantile: -18.593411237288045\n",
      "Running Bayesian optimization search for the 90.0% quantile.\n",
      "Fitting 5 folds for each of 1 candidates, totalling 5 fits\n",
      "Fitting 5 folds for each of 1 candidates, totalling 5 fits\n",
      "Fitting 5 folds for each of 1 candidates, totalling 5 fits\n",
      "Fitting 5 folds for each of 1 candidates, totalling 5 fits\n",
      "Fitting 5 folds for each of 1 candidates, totalling 5 fits\n",
      "Fitting 5 folds for each of 1 candidates, totalling 5 fits\n",
      "Fitting 5 folds for each of 1 candidates, totalling 5 fits\n",
      "Fitting 5 folds for each of 1 candidates, totalling 5 fits\n",
      "Fitting 5 folds for each of 1 candidates, totalling 5 fits\n",
      "Fitting 5 folds for each of 1 candidates, totalling 5 fits\n",
      "Fitting 5 folds for each of 1 candidates, totalling 5 fits\n",
      "Fitting 5 folds for each of 1 candidates, totalling 5 fits\n",
      "Fitting 5 folds for each of 1 candidates, totalling 5 fits\n",
      "Fitting 5 folds for each of 1 candidates, totalling 5 fits\n",
      "Fitting 5 folds for each of 1 candidates, totalling 5 fits\n",
      "Fitting 5 folds for each of 1 candidates, totalling 5 fits\n",
      "Best parameters for 90.0% quantile: OrderedDict([('learning_rate', 0.070586625643666), ('max_depth', 5), ('n_estimators', 113), ('num_leaves', 20)])\n",
      "CV error for 90.0% quantile: -16.025792041179432\n",
      "Training error for 90.0% quantile: -12.464469027177312\n",
      "Optimization complete. Best models saved.\n"
     ]
    }
   ],
   "source": [
    "search_spaces = {\n",
    "    'learning_rate': Real(0.01, 0.5, 'uniform'),\n",
    "    'max_depth': Integer(-8, 8), \n",
    "    'n_estimators': Integer(100, 300), \n",
    "    'num_leaves': Integer(20, 70)\n",
    "}\n",
    "\n",
    "quantiles = [0.1, 0.2, 0.3, 0.4, 0.5, 0.6, 0.7, 0.8, 0.9]\n",
    "best_models = {}\n",
    "\n",
    "# Function to compute pinball loss\n",
    "def pinball_loss(y_true, y_pred, alpha):\n",
    "    residuals = y_true - y_pred\n",
    "    return np.mean(np.maximum(alpha * residuals, (alpha - 1) * residuals))\n",
    "\n",
    "# Perform Bayesian optimization search for each quantile\n",
    "for quantile in quantiles:\n",
    "    print(f\"Running Bayesian optimization search for the {quantile * 100}% quantile.\")\n",
    "    model = lgb.LGBMRegressor(\n",
    "        objective='quantile',\n",
    "        alpha=quantile,\n",
    "        verbose=-1\n",
    "    )\n",
    "    # Create a custom scorer for the current quantile\n",
    "    custom_scorer = make_scorer(pinball_loss, greater_is_better=False, alpha=quantile)\n",
    "    kf = KFold(n_splits=5)\n",
    "    \n",
    "    optimizer = BayesSearchCV(\n",
    "        estimator=model,\n",
    "        search_spaces=search_spaces,\n",
    "        n_iter=16,  \n",
    "        cv=kf,  \n",
    "        scoring=custom_scorer,\n",
    "        verbose=1,\n",
    "        n_jobs=-1,\n",
    "        return_train_score=True\n",
    "    )\n",
    "    optimizer.fit(train_table, train_target_variable)\n",
    "    best_model = optimizer.best_estimator_\n",
    "    model_path = f'models/LightGB/LGBR_BEST_q{int(quantile * 100)}.txt'\n",
    "    best_model.booster_.save_model(model_path)\n",
    "    print(f\"Best parameters for {quantile * 100}% quantile: {optimizer.best_params_}\")\n",
    "    best_models[f'q{int(quantile*100)}'] = best_model\n",
    "\n",
    "    # Retrieve and print CV error for the optimal model\n",
    "    mean_test_score = optimizer.cv_results_['mean_test_score'][optimizer.best_index_]\n",
    "    mean_train_score = optimizer.cv_results_['mean_train_score'][optimizer.best_index_]\n",
    "    print(f\"CV error for {quantile * 100}% quantile: {mean_test_score}\")\n",
    "    print(f\"Training error for {quantile * 100}% quantile: {mean_train_score}\")\n",
    "\n",
    "print(\"Optimization complete. Best models saved.\")"
   ]
  },
  {
   "cell_type": "markdown",
   "metadata": {},
   "source": [
    "## Train set:"
   ]
  },
  {
   "cell_type": "code",
   "execution_count": 5,
   "metadata": {},
   "outputs": [
    {
     "name": "stdout",
     "output_type": "stream",
     "text": [
      "Training Loss(Quantile): 21.19973859352219\n"
     ]
    }
   ],
   "source": [
    "quantile_predictions = {}\n",
    "quantile_predictions['total_generation_MWh'] = train_target_variable\n",
    "\n",
    "quantiles = range(10, 100, 10)\n",
    "for qu in quantiles:\n",
    "    model_path = f'models/LightGB/LGBR_BEST_q{qu}.txt'\n",
    "    model = lgb.Booster(model_file=model_path)\n",
    "    quantile_predictions[f'q{qu}'] = model.predict(train_table)\n",
    "\n",
    "# Ensure no negative predictions\n",
    "quantile_predictions_df = pd.DataFrame(quantile_predictions)\n",
    "quantile_columns = [col for col in quantile_predictions_df.columns if col.startswith('q')]\n",
    "quantile_predictions_df[quantile_columns] = quantile_predictions_df[quantile_columns].map(lambda x: max(x, 0))\n",
    "\n",
    "# Sort quantiles, avoid cross overs between them \n",
    "quantile_predictions_df = sort_quantiles(quantile_predictions_df, quantile_columns)\n",
    "\n",
    "# Training loss\n",
    "print('Training Loss(Quantile):',pinball_score(quantile_predictions_df,target_col='total_generation_MWh'))\n",
    "\n",
    "# Save the predictions (They might be used for ensemble learning)\n",
    "quantile_predictions_df['time'] = train_times  \n",
    "csv_file_path = 'data/LightGB/Hybrid_quantiles_train_set.csv'\n",
    "quantile_predictions_df.to_csv(csv_file_path, index=False)\n"
   ]
  },
  {
   "cell_type": "markdown",
   "metadata": {},
   "source": [
    "## Test set"
   ]
  },
  {
   "cell_type": "code",
   "execution_count": 6,
   "metadata": {},
   "outputs": [
    {
     "name": "stdout",
     "output_type": "stream",
     "text": [
      "Test Loss(Quanitle): 25.018089141209188\n"
     ]
    }
   ],
   "source": [
    "quantile_predictions = {}\n",
    "quantile_predictions['total_generation_MWh'] = test_target_variable\n",
    "\n",
    "quantiles = range(10, 100, 10)\n",
    "for qu in quantiles:\n",
    "    model_path = f'models/LightGB/LGBR_BEST_q{qu}.txt'\n",
    "    if not os.path.exists(model_path):\n",
    "        print(f\"Model file not found: {model_path}\")\n",
    "        continue\n",
    "    model = lgb.Booster(model_file=model_path)\n",
    "    quantile_predictions[f'q{qu}'] = model.predict(test_table)\n",
    "\n",
    "# Ensure no negative predictions\n",
    "quantile_predictions_df = pd.DataFrame(quantile_predictions)\n",
    "quantile_columns = [col for col in quantile_predictions_df.columns if col.startswith('q')]\n",
    "quantile_predictions_df[quantile_columns] = quantile_predictions_df[quantile_columns].map(lambda x: max(x, 0))\n",
    "\n",
    "# Sort quantiles, avoid cross overs between them \n",
    "quantile_predictions_df = sort_quantiles(quantile_predictions_df, quantile_columns)\n",
    "\n",
    "# Test loss\n",
    "print('Test Loss(Quanitle):',pinball_score(quantile_predictions_df,target_col='total_generation_MWh'))\n",
    "\n",
    "# Save the predictions (They might be used for ensemble learning)\n",
    "quantile_predictions_df['time'] = test_times  \n",
    "csv_file_path = 'data/LightGB/Hybrid_quantiles_test_set.csv'\n",
    "quantile_predictions_df.to_csv(csv_file_path, index=False)"
   ]
  },
  {
   "cell_type": "markdown",
   "metadata": {},
   "source": [
    "## Plot Quantiles ( Probabilistic Forecasting) :"
   ]
  },
  {
   "cell_type": "code",
   "execution_count": 7,
   "metadata": {},
   "outputs": [],
   "source": [
    "save_path = \"plots/LightGB/LGBR_Plot.html\"\n",
    "graph_title = \"Hybrid Production Forecast (LightGBR)\"\n",
    "quantile_predictions_df['time'] = test_times  \n",
    "plot_quantiles_target_and_average_loss_interactive(quantile_predictions_df, 'total_generation_MWh', test_times, save_path, title=graph_title)"
   ]
  },
  {
   "cell_type": "markdown",
   "metadata": {},
   "source": [
    "## Plot Statistics of Quantiles"
   ]
  },
  {
   "cell_type": "code",
   "execution_count": 8,
   "metadata": {},
   "outputs": [
    {
     "data": {
      "image/png": "[encoded data removed]",
      "text/plain": [
       "<Figure size 900x500 with 1 Axes>"
      ]
     },
     "metadata": {},
     "output_type": "display_data"
    }
   ],
   "source": [
    "quantile_stats(quantile_predictions_df)"
   ]
  },
  {
   "cell_type": "code",
   "execution_count": 9,
   "metadata": {},
   "outputs": [
    {
     "data": {
      "image/png": "[encoded data removed]",
      "text/plain": [
       "<Figure size 800x600 with 1 Axes>"
      ]
     },
     "metadata": {},
     "output_type": "display_data"
    }
   ],
   "source": [
    "calculate_and_plot_average_quantile_loss(quantile_predictions_df, 'total_generation_MWh', \"Hybrid: Average Quantile Loss (LightGBM)\")"
   ]
  }
 ],
 "metadata": {
  "kernelspec": {
   "display_name": "Python 3 (ipykernel)",
   "language": "python",
   "name": "python3"
  },
  "language_info": {
   "codemirror_mode": {
    "name": "ipython",
    "version": 3
   },
   "file_extension": ".py",
   "mimetype": "text/x-python",
   "name": "python",
   "nbconvert_exporter": "python",
   "pygments_lexer": "ipython3",
   "version": "3.11.9"
  }
 },
 "nbformat": 4,
 "nbformat_minor": 4
}
